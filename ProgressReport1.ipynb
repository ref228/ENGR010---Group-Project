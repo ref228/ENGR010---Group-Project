{
 "cells": [
  {
   "cell_type": "markdown",
   "id": "fba09a5a-94c9-4afe-9542-cdb8f1fed17f",
   "metadata": {},
   "source": [
    "<h3 style=\"text-align: center\">ENGR010 Group Project</h3></h3>\n",
    "<h4 style=\"text-align: center\">Progress Report 1</h4></h4>"
   ]
  },
  {
   "cell_type": "markdown",
   "id": "5e7489fc-464c-4815-b387-696dfdbf239a",
   "metadata": {},
   "source": [
    " <h5 style=>Team Number: </h5></h5> 3"
   ]
  },
  {
   "cell_type": "markdown",
   "id": "37a910fa-6572-4b02-84c3-faeb84f5f15b",
   "metadata": {},
   "source": [
    " <h5 style=>Team Members:</h5></h5> Sonali Sharpe, Alyssa Puskarz, Alana Hall, Regina Fleming"
   ]
  },
  {
   "cell_type": "markdown",
   "id": "1f5f32cf-174a-42b0-9c20-7aa1266a74b2",
   "metadata": {},
   "source": [
    "<h5 style=>Report Date: </h5></h5> 3/28/25"
   ]
  },
  {
   "cell_type": "markdown",
   "id": "f21b53f5-954d-4ef3-b239-1ad1c02de87b",
   "metadata": {},
   "source": [
    "<h5 style=>Report Number:</h5></h5> 1"
   ]
  },
  {
   "cell_type": "markdown",
   "id": "23086236-f34c-4a74-82cb-6a24dab66660",
   "metadata": {},
   "source": [
    "<h5 style=>Overview:</h5></h5>"
   ]
  },
  {
   "cell_type": "markdown",
   "id": "bc513327-293b-4bc7-baf7-8d724a4f38f6",
   "metadata": {},
   "source": [
    "Our group will be working on the Environmental Engineering Project. This option focuses on the development of a Python-based application for water quality monitoring and analysis. This project aims to provide an interactive dashboard that environmental engineers can use to assess water quality trends in local rivers and streams. The system will analyze key water quality parameters such as pH, dissolved oxygen, turbidity, and conductivity. It will incorporate real-time data visualization and trend analysis to identify potential environmental concerns. Through this project, we will apply programming, data analysis, and engineering principles to address a critical environmental challenge, ensuring that our tool can support decision-making for water resource management."
   ]
  },
  {
   "cell_type": "code",
   "execution_count": null,
   "id": "b3d6f579-928b-4bec-ac81-c6e1bd95b237",
   "metadata": {},
   "outputs": [],
   "source": []
  }
 ],
 "metadata": {
  "kernelspec": {
   "display_name": "Python [conda env:base] *",
   "language": "python",
   "name": "conda-base-py"
  },
  "language_info": {
   "codemirror_mode": {
    "name": "ipython",
    "version": 3
   },
   "file_extension": ".py",
   "mimetype": "text/x-python",
   "name": "python",
   "nbconvert_exporter": "python",
   "pygments_lexer": "ipython3",
   "version": "3.12.7"
  }
 },
 "nbformat": 4,
 "nbformat_minor": 5
}
