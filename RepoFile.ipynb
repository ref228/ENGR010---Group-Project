import pandas as pd
import numpy as np
import datetime
import random
import os

def generate_water_quality_data():
    """
    Generate synthetic water quality data for a six-month period across three water bodies.
    The data includes temperature, pH, dissolved oxygen, turbidity, and conductivity measurements.
    
    Returns:
        pandas.DataFrame: DataFrame containing the generated water quality data
    """
    # Define parameters
    start_date = datetime.date(2024, 1, 1)
    end_date = datetime.date(2024, 6, 30)
    sampling_frequency = 7  # days
    
    # Define water bodies and their sampling locations
    water_bodies = {
        "Clear Creek": ["Upstream", "Midstream", "Downstream"],
        "Blue River": ["North Fork", "Main Channel", "South Fork"],
        "Lake Wilson": ["Shore", "Center", "Dam"]
    }
    
    # Define realistic parameter ranges based on typical freshwater values
    param_ranges = {
        "Temperature": {  # in Celsius
            "mean": {
                "Jan": 5, "Feb": 6, "Mar": 8, "Apr": 12, 
                "May": 16, "Jun": 20
            },
            "std": 1.5,
            "min": 0,
            "max": 30
        },
        "pH": {
            "mean": 7.5,
            "std": 0.3,
            "min": 6.0,
            "max": 9.0
        },
        "Dissolved Oxygen": {  # in mg/L
            "base_mean": 9.0,  # Base value that will be adjusted by temperature
            "std": 0.8,
            "min": 4.0,
            "max": 14.0
        },
        "Turbidity": {  # in NTU
            "dry_mean": 5.0,  # Normal conditions
            "wet_mean": 25.0,  # After rainfall
            "std": 3.0,
            "min": 0.5,
            "max": 100.0
        },
        "Conductivity": {  # in µS/cm
            "creek_mean": 250,
            "river_mean": 350,
            "lake_mean": 300,
            "std": 50,
            "min": 100,
            "max": 800
        }
    }
    
    # Create rainfall events to influence turbidity
    # Define random rainfall dates
    num_rainfall_events = 12
    all_days = [start_date + datetime.timedelta(days=i) for i in range((end_date - start_date).days + 1)]
    rainfall_dates = sorted(random.sample(all_days, num_rainfall_events))
    
    # Generate dates for sampling
    dates = []
    current_date = start_date
    while current_date <= end_date:
        dates.append(current_date)
        current_date += datetime.timedelta(days=sampling_frequency)
    
    # Create an empty list to hold the data
    data = []
    
    # Generate a uniquet ID for each sample
    sample_id = 1
    
    # Generate data for each date, water body, and location
    for date in dates:
        month = date.strftime("%b")
        
        # Check if it rained within 2 days before the sampling date
        is_after_rain = any(abs((date - rain_date).days) <= 2 for rain_date in rainfall_dates)
        
        for water_body, locations in water_bodies.items():
            # Different water bodies have different baseline conductivity
            if "Creek" in water_body:
                conductivity_mean = param_ranges["Conductivity"]["creek_mean"]
            elif "River" in water_body:
                conductivity_mean = param_ranges["Conductivity"]["river_mean"]
            else:
                conductivity_mean = param_ranges["Conductivity"]["lake_mean"]
            
            for location in locations:
                # Generate temperature based on month
                temp_mean = param_ranges["Temperature"]["mean"][month]
                temperature = np.random.normal(temp_mean, param_ranges["Temperature"]["std"])
                temperature = max(param_ranges["Temperature"]["min"], min(param_ranges["Temperature"]["max"], temperature))
                
                # Generate pH
                ph = np.random.normal(param_ranges["pH"]["mean"], param_ranges["pH"]["std"])
                ph = max(param_ranges["pH"]["min"], min(param_ranges["pH"]["max"], ph))
                
                # Generate dissolved oxygen (inversely related to temperature)
                do_mean = param_ranges["Dissolved Oxygen"]["base_mean"] - (temperature - 10) * 0.2
                do = np.random.normal(do_mean, param_ranges["Dissolved Oxygen"]["std"])
                do = max(param_ranges["Dissolved Oxygen"]["min"], min(param_ranges["Dissolved Oxygen"]["max"], do))
                
                # Generate turbidity (affected by rainfall)
                if is_after_rain:
                    turb_mean = param_ranges["Turbidity"]["wet_mean"]
                else:
                    turb_mean = param_ranges["Turbidity"]["dry_mean"]
                
                # Upstream locations are less turbid than downstream
                if "Upstream" in location or "North" in location or "Shore" in location:
                    turb_mean *= 0.7
                elif "Downstream" in location or "South" in location or "Dam" in location:
                    turb_mean *= 1.3
                
                turbidity = np.random.normal(turb_mean, param_ranges["Turbidity"]["std"])
                turbidity = max(param_ranges["Turbidity"]["min"], min(param_ranges["Turbidity"]["max"], turbidity))
                
                # Generate conductivity
                conductivity = np.random.normal(conductivity_mean, param_ranges["Conductivity"]["std"])
                conductivity = max(param_ranges["Conductivity"]["min"], min(param_ranges["Conductivity"]["max"], conductivity))
                
                # Add location-specific variations
                if "Downstream" in location or "South" in location or "Dam" in location:
                    # Downstream locations often have higher conductivity
                    conductivity *= 1.15
                    
                # Add some seasonal variation to conductivity
                if month in ["Jan", "Feb"]:
                    # Winter road salt can increase conductivity
                    conductivity *= 1.2
                
                # Add the data point
                data.append({
                    "SampleID": sample_id,
                    "Date": date,
                    "WaterBody": water_body,
                    "Location": location,
                    "Temperature_C": round(temperature, 1),
                    "pH": round(ph, 2),
                    "DissolvedOxygen_mg/L": round(do, 2),
                    "Turbidity_NTU": round(turbidity, 2),
                    "Conductivity_uS/cm": round(conductivity, 1),
                    "RainfallLast48h": "Yes" if is_after_rain else "No"
                })
                
                sample_id += 1
    
    # Create a DataFrame from the data
    df = pd.DataFrame(data)
    
    # Add some random missing values to simulate real-world data collection issues
    # Set approximately 2% of the values to NaN
    for column in ["Temperature_C", "pH", "DissolvedOxygen_mg/L", "Turbidity_NTU", "Conductivity_uS/cm"]:
        mask = np.random.random(len(df)) < 0.02
        df.loc[mask, column] = np.nan
    
    # Add a few outliers to simulate measurement errors
    for column in ["Temperature_C", "pH", "DissolvedOxygen_mg/L", "Turbidity_NTU", "Conductivity_uS/cm"]:
        # Select a few random indices (0.5% of the data)
        outlier_indices = np.random.choice(df.index, size=int(len(df) * 0.005), replace=False)
        
        for idx in outlier_indices:
            if column == "Temperature_C":
                df.loc[idx, column] = np.random.choice([0.1, 35.0])
            elif column == "pH":
                df.loc[idx, column] = np.random.choice([5.0, 10.0])
            elif column == "DissolvedOxygen_mg/L":
                df.loc[idx, column] = np.random.choice([1.0, 20.0])
            elif column == "Turbidity_NTU":
                df.loc[idx, column] = np.random.choice([0.1, 500.0])
            elif column == "Conductivity_uS/cm":
                df.loc[idx, column] = np.random.choice([50.0, 1500.0])
    
    return df

def add_calculated_water_quality_index(df):
    """
    Add a calculated Water Quality Index (WQI) based on the parameter values.
    
    Args:
        df (pandas.DataFrame): DataFrame containing water quality parameters
        
    Returns:
        pandas.DataFrame: DataFrame with added WQI column
    """
    # Create a copy to avoid modifying the original
    df_with_wqi = df.copy()
    
    # Function to calculate WQI
    def calculate_wqi(row):
        # Skip calculation if any required value is missing
        if pd.isna(row["Temperature_C"]) or pd.isna(row["pH"]) or \
           pd.isna(row["DissolvedOxygen_mg/L"]) or pd.isna(row["Turbidity_NTU"]) or \
           pd.isna(row["Conductivity_uS/cm"]):
            return np.nan
        
        # Temperature subindex (best between 10-20°C)
        if 10 <= row["Temperature_C"] <= 20:
            temp_si = 100
        else:
            temp_si = max(0, 100 - abs(row["Temperature_C"] - 15) * 5)
        
        # pH subindex (best between 6.5-8.5)
        if 6.5 <= row["pH"] <= 8.5:
            ph_si = 100
        else:
            ph_si = max(0, 100 - abs(row["pH"] - 7.5) * 30)
        
        # Dissolved oxygen subindex (higher is better)
        do_si = min(100, row["DissolvedOxygen_mg/L"] * 10)
        
        # Turbidity subindex (lower is better)
        turb_si = max(0, 100 - row["Turbidity_NTU"] * 2)
        
        # Conductivity subindex (middle range is best)
        if 200 <= row["Conductivity_uS/cm"] <= 500:
            cond_si = 100
        else:
            cond_si = max(0, 100 - abs(row["Conductivity_uS/cm"] - 350) / 10)
        
        # Weight the parameters and calculate WQI
        weights = {"temp": 0.15, "ph": 0.2, "do": 0.3, "turb": 0.2, "cond": 0.15}
        wqi = (temp_si * weights["temp"] + 
               ph_si * weights["ph"] + 
               do_si * weights["do"] + 
               turb_si * weights["turb"] + 
               cond_si * weights["cond"])
        
        return round(wqi, 1)
    
    # Apply the WQI calculation
    df_with_wqi["WaterQualityIndex"] = df_with_wqi.apply(calculate_wqi, axis=1)
    
    # Add a categorical quality assessment
    def quality_category(wqi):
        if pd.isna(wqi):
            return np.nan
        elif wqi >= 90:
            return "Excellent"
        elif wqi >= 75:
            return "Good"
        elif wqi >= 60:
            return "Fair"
        elif wqi >= 45:
            return "Marginal"
        else:
            return "Poor"
    
    df_with_wqi["WaterQuality"] = df_with_wqi["WaterQualityIndex"].apply(quality_category)
    
    return df_with_wqi

def add_seasonal_and_locational_variations(df):
    """
    Add columns that will help students identify seasonal 
    and locational patterns in the data.
    
    Args:
        df (pandas.DataFrame): Original DataFrame
        
    Returns:
        pandas.DataFrame: Enhanced DataFrame with additional columns
    """
    enhanced_df = df.copy()
    
    # Extract month and season
    enhanced_df["Month"] = enhanced_df["Date"].dt.month_name()
    
    def get_season(date):
        month = date.month
        if month in [12, 1, 2]:
            return "Winter"
        elif month in [3, 4, 5]:
            return "Spring"
        elif month in [6, 7, 8]:
            return "Summer"
        else:
            return "Fall"
    
    enhanced_df["Season"] = enhanced_df["Date"].apply(get_season)
    
    # Add location type classification
    def classify_location(location):
        if any(term in location for term in ["Upstream", "North", "Shore"]):
            return "Upper"
        elif any(term in location for term in ["Downstream", "South", "Dam"]):
            return "Lower"
        else:
            return "Middle"
    
    enhanced_df["LocationType"] = enhanced_df["Location"].apply(classify_location)
    
    return enhanced_df

if __name__ == "__main__":
    # Generate the basic water quality data
    water_data = generate_water_quality_data()
    
    # Convert the Date column to datetime format for processing
    water_data["Date"] = pd.to_datetime(water_data["Date"])
    
    # Add calculated WQI
    water_data = add_calculated_water_quality_index(water_data)
    
    # Add seasonal and locational variations
    water_data = add_seasonal_and_locational_variations(water_data)
    
    # Save the data to a CSV file
    output_dir = "sample_data"
    if not os.path.exists(output_dir):
        os.makedirs(output_dir)
    
    # Format the Date column as string for better readability in CSV
    water_data["Date"] = water_data["Date"].dt.strftime("%Y-%m-%d")
    
    # Save to CSV
    water_data.to_csv(os.path.join(output_dir, "water_quality_data.csv"), index=False)
    
    # Print information about the generated dataset
    num_samples = len(water_data)
    num_water_bodies = water_data["WaterBody"].nunique()
    num_locations = water_data["Location"].nunique()
    date_range = f"{water_data['Date'].min()} to {water_data['Date'].max()}"
    
    print(f"Generated water quality dataset with:")
    print(f"- {num_samples} samples")
    print(f"- {num_water_bodies} water bodies")
    print(f"- {num_locations} sampling locations")
    print(f"- Date range: {date_range}")
    print(f"- Data saved to {os.path.join(output_dir, 'water_quality_data.csv')}")
    
    # Print the first few rows of the data
    print("\nSample of the generated data:")
    print(water_data.head())
