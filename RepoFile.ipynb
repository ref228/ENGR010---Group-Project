{
 "cells": [
  {
   "cell_type": "code",
   "execution_count": null,
   "id": "e5d352fb-904c-490e-a258-ec12ef119fec",
   "metadata": {},
   "outputs": [],
   "source": []
  }
 ],
 "metadata": {
  "kernelspec": {
   "display_name": "",
   "name": ""
  },
  "language_info": {
   "name": ""
  }
 },
 "nbformat": 4,
 "nbformat_minor": 5
}
